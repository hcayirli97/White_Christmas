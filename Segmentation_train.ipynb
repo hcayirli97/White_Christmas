{
  "nbformat": 4,
  "nbformat_minor": 0,
  "metadata": {
    "colab": {
      "provenance": [],
      "collapsed_sections": []
    },
    "kernelspec": {
      "name": "python3",
      "display_name": "Python 3"
    },
    "language_info": {
      "name": "python"
    },
    "accelerator": "GPU"
  },
  "cells": [
    {
      "cell_type": "code",
      "source": [
        "from google.colab import drive\n",
        "drive.mount('/content/drive')"
      ],
      "metadata": {
        "id": "_3TQZjHEixUH",
        "colab": {
          "base_uri": "https://localhost:8080/"
        },
        "outputId": "5483ab01-9f2a-454c-c8b1-5bf97b70c598"
      },
      "execution_count": null,
      "outputs": [
        {
          "output_type": "stream",
          "name": "stdout",
          "text": [
            "Mounted at /content/drive\n"
          ]
        }
      ]
    },
    {
      "cell_type": "code",
      "source": [
        "# import the necessary packages\n",
        "import torch, torchvision\n",
        "import torch.optim as optim\n",
        "import os, glob\n",
        "# base path of the dataset\n",
        "IMAGE_PATH = \"/content/drive/MyDrive/SegmenData2/images\"\n",
        "MASK_PATH = \"/content/drive/MyDrive/SegmenData2/masks\"\n",
        "\n",
        "imgs = glob.glob(IMAGE_PATH+\"/*.png\")\n",
        "masks = glob.glob(MASK_PATH+\"/*.png\")\n",
        "\n",
        "train_imgs = imgs[:int(len(imgs)*0.75)]\n",
        "train_masks = masks[:int(len(imgs)*0.75)]\n",
        "\n",
        "val_imgs = imgs[int(len(imgs)*0.75):]\n",
        "val_masks = masks[int(len(imgs)*0.75):]\n"
      ],
      "metadata": {
        "id": "IIbXg6GZjEpF"
      },
      "execution_count": null,
      "outputs": []
    },
    {
      "cell_type": "code",
      "source": [
        "import torch\n",
        "import torch.nn as nn\n",
        "import torchvision.transforms.functional as TF\n",
        "\n",
        "class DoubleConv(nn.Module):\n",
        "    def __init__(self, in_channels, out_channels):\n",
        "        super(DoubleConv, self).__init__()\n",
        "        self.conv = nn.Sequential(\n",
        "            nn.Conv2d(in_channels, out_channels, 3, 1, 1, bias=False),\n",
        "            nn.BatchNorm2d(out_channels),\n",
        "            nn.ReLU(inplace=True),\n",
        "            nn.Conv2d(out_channels, out_channels, 3, 1, 1, bias=False),\n",
        "            nn.BatchNorm2d(out_channels),\n",
        "            nn.ReLU(inplace=True),\n",
        "        )\n",
        "\n",
        "    def forward(self, x):\n",
        "        return self.conv(x)\n",
        "\n",
        "class UNET(nn.Module):\n",
        "    def __init__(\n",
        "            self, in_channels=3, out_channels=1, features=[64, 128, 256, 512],\n",
        "    ):\n",
        "        super(UNET, self).__init__()\n",
        "        self.ups = nn.ModuleList()\n",
        "        self.downs = nn.ModuleList()\n",
        "        self.pool = nn.MaxPool2d(kernel_size=2, stride=2)\n",
        "\n",
        "        # Down part of UNET\n",
        "        for feature in features:\n",
        "            self.downs.append(DoubleConv(in_channels, feature))\n",
        "            in_channels = feature\n",
        "\n",
        "        # Up part of UNET\n",
        "        for feature in reversed(features):\n",
        "            self.ups.append(\n",
        "                nn.ConvTranspose2d(\n",
        "                    feature*2, feature, kernel_size=2, stride=2,\n",
        "                )\n",
        "            )\n",
        "            self.ups.append(DoubleConv(feature*2, feature))\n",
        "\n",
        "        self.bottleneck = DoubleConv(features[-1], features[-1]*2)\n",
        "        self.final_conv = nn.Conv2d(features[0], out_channels, kernel_size=1)\n",
        "\n",
        "    def forward(self, x):\n",
        "        skip_connections = []\n",
        "\n",
        "        for down in self.downs:\n",
        "            x = down(x)\n",
        "            skip_connections.append(x)\n",
        "            x = self.pool(x)\n",
        "\n",
        "        x = self.bottleneck(x)\n",
        "        skip_connections = skip_connections[::-1]\n",
        "\n",
        "        for idx in range(0, len(self.ups), 2):\n",
        "            x = self.ups[idx](x)\n",
        "            skip_connection = skip_connections[idx//2]\n",
        "\n",
        "            if x.shape != skip_connection.shape:\n",
        "                x = TF.resize(x, size=skip_connection.shape[2:])\n",
        "\n",
        "            concat_skip = torch.cat((skip_connection, x), dim=1)\n",
        "            x = self.ups[idx+1](concat_skip)\n",
        "\n",
        "        return self.final_conv(x)"
      ],
      "metadata": {
        "id": "vWb7kcslmZDd"
      },
      "execution_count": null,
      "outputs": []
    },
    {
      "cell_type": "code",
      "source": [
        "from tqdm import tqdm\n",
        "best_Acc = 0\n",
        "def train_fn(loader, model, optimizer, loss_fn, scaler):\n",
        "    \n",
        "    loop = tqdm(loader)\n",
        "\n",
        "    for batch_idx, (data, targets) in enumerate(loop):\n",
        "        data = data.to(device=DEVICE)\n",
        "        targets = targets.float().unsqueeze(1).to(device=DEVICE)\n",
        "\n",
        "        # forward\n",
        "        with torch.cuda.amp.autocast():\n",
        "            predictions = model(data)\n",
        "            loss = loss_fn(predictions, targets)\n",
        "\n",
        "        # backward\n",
        "        optimizer.zero_grad()\n",
        "        scaler.scale(loss).backward()\n",
        "        scaler.step(optimizer)\n",
        "        scaler.update()\n",
        "\n",
        "        # update tqdm loop\n",
        "        loop.set_postfix(loss=loss.item())\n",
        "    return model\n",
        "\n",
        "def check_accuracy(loader, model, epoch, device=\"cuda\"):\n",
        "    global best_Acc\n",
        "    num_correct = 0\n",
        "    num_pixels = 0\n",
        "    dice_score = 0\n",
        "    model.eval()\n",
        "\n",
        "    with torch.no_grad():\n",
        "        for x, y in loader:\n",
        "            x = x.to(device)\n",
        "            y = y.to(device).unsqueeze(1)\n",
        "            preds = torch.sigmoid(model(x))\n",
        "            preds = (preds > 0.5).float()\n",
        "            num_correct += (preds == y).sum()\n",
        "            num_pixels += torch.numel(preds)\n",
        "            dice_score += (2 * (preds * y).sum()) / (\n",
        "                (preds + y).sum() + 1e-8\n",
        "            )\n",
        "\n",
        "    print(\n",
        "        f\"Got {num_correct}/{num_pixels} with acc {num_correct/num_pixels*100:.2f}\"\n",
        "    )\n",
        "    print(f\"Dice score: {dice_score/len(loader)}\")\n",
        "    if best_Acc < (num_correct/num_pixels*100):\n",
        "      best_Acc = (num_correct/num_pixels*100)\n",
        "      save_checkpoint(model,epoch, (num_correct/num_pixels*100),True)\n",
        "    else:\n",
        "      save_checkpoint(model,epoch, (num_correct/num_pixels*100),False)\n",
        "    model.train()\n",
        "\n",
        "def save_predictions_as_imgs(\n",
        "    loader, model, folder=\"saved_images/\", device=\"cuda\"\n",
        "):\n",
        "    model.eval()\n",
        "    for idx, (x, y) in enumerate(loader):\n",
        "        x = x.to(device=device)\n",
        "        with torch.no_grad():\n",
        "            preds = torch.sigmoid(model(x))\n",
        "            preds = (preds > 0.5).float()\n",
        "        torchvision.utils.save_image(\n",
        "            preds, f\"{folder}/pred_{idx}.png\"\n",
        "        )\n",
        "        torchvision.utils.save_image(y.unsqueeze(1), f\"{folder}{idx}.png\")\n",
        "\n",
        "    model.train()\n",
        "\n",
        "def save_checkpoint(model,epoch,score, best = False):\n",
        "    \n",
        "    if best:\n",
        "      torch.save(model, \"/content/drive/MyDrive/savemodels/bestmodel_epoch_{}_score_{:.2f}.pt\".format(epoch,score))\n",
        "      print(\"=> Saving checkpoint => bestmodel_epoch_{}_score_{:.2f}.pt\".format(epoch,score))\n",
        "    else:\n",
        "      torch.save(model, \"/content/drive/MyDrive/savemodels/model_epoch_{}_score_{:.2f}.pt\".format(epoch,score))\n",
        "      print(\"=> Saving checkpoint => model_epoch_{}_score_{:.2f}.pt\".format(epoch,score))"
      ],
      "metadata": {
        "id": "PMdgrilAox60"
      },
      "execution_count": null,
      "outputs": []
    },
    {
      "cell_type": "code",
      "source": [
        "import albumentations as A\n",
        "from albumentations.pytorch import ToTensorV2\n",
        "from torch.utils.data import Dataset\n",
        "import cv2\n",
        "import numpy as np\n",
        "\n",
        "train_transform = A.Compose(\n",
        "        [\n",
        "            A.Resize(height=512, width=512),\n",
        "            A.HorizontalFlip(p=0.5),\n",
        "            A.Normalize(\n",
        "                mean=[0.0, 0.0, 0.0],\n",
        "                std=[1.0, 1.0, 1.0],\n",
        "                max_pixel_value=255.0,\n",
        "            ),\n",
        "            ToTensorV2(),\n",
        "        ],\n",
        "    )\n",
        "\n",
        "val_transforms = A.Compose(\n",
        "        [\n",
        "            A.Resize(height=512, width=512),\n",
        "            A.Normalize(\n",
        "                mean=[0.0, 0.0, 0.0],\n",
        "                std=[1.0, 1.0, 1.0],\n",
        "                max_pixel_value=255.0,\n",
        "            ),\n",
        "            ToTensorV2(),\n",
        "        ],\n",
        "    )\n",
        "\n",
        "class SegDataset(Dataset):\n",
        "    def __init__(self, image_dir, mask_dir, transform=None):\n",
        "        self.image_dir = image_dir\n",
        "        self.mask_dir = mask_dir\n",
        "        self.transform = transform\n",
        "        self.images = image_dir\n",
        "\n",
        "    def __len__(self):\n",
        "        return len(self.images)\n",
        "\n",
        "    def __getitem__(self, index):\n",
        "        img_path = self.images[index]\n",
        "        mask_path = self.images[index].replace(\"images\",\"masks\")\n",
        "        image = cv2.imread(img_path)\n",
        "        mask = cv2.imread(mask_path, 0)\n",
        "        mask[mask == 255.0] = 1.0\n",
        "\n",
        "        if self.transform is not None:\n",
        "            augmentations = self.transform(image=image, mask=mask)\n",
        "            image = augmentations[\"image\"]\n",
        "            mask = augmentations[\"mask\"]\n",
        "        return image, mask\n",
        "\n"
      ],
      "metadata": {
        "id": "KoF9lO5kjQkZ"
      },
      "execution_count": null,
      "outputs": []
    },
    {
      "cell_type": "code",
      "source": [
        "LEARNING_RATE = 1e-4\n",
        "DEVICE = \"cuda\" if torch.cuda.is_available() else \"cpu\"\n",
        "Batchsize = 4\n",
        "NUM_EPOCHS = 50"
      ],
      "metadata": {
        "id": "7A001wgCwC-i"
      },
      "execution_count": null,
      "outputs": []
    },
    {
      "cell_type": "code",
      "source": [
        "from torch.utils.data import DataLoader\n",
        "\n",
        "train_ds = SegDataset(\n",
        "        image_dir=train_imgs,\n",
        "        mask_dir=train_masks,\n",
        "        transform=train_transform,)\n",
        "\n",
        "val_ds = SegDataset(\n",
        "        image_dir=val_imgs,\n",
        "        mask_dir=val_masks,\n",
        "        transform=val_transforms,\n",
        "    )\n",
        "train_loader = DataLoader(\n",
        "        train_ds,\n",
        "        batch_size=Batchsize,\n",
        "        pin_memory=True,\n",
        "        shuffle=True,\n",
        "    )\n",
        "val_loader = DataLoader(\n",
        "        train_ds,\n",
        "        batch_size=Batchsize,\n",
        "        pin_memory=True,\n",
        "        shuffle=True,\n",
        "    )"
      ],
      "metadata": {
        "id": "dN5FlOFgrbsU"
      },
      "execution_count": null,
      "outputs": []
    },
    {
      "cell_type": "code",
      "source": [
        "from torch.nn import BCEWithLogitsLoss\n",
        "from torch.optim import Adam\n",
        "\n",
        "\n",
        "model = UNET(in_channels=3, out_channels=1).to(DEVICE)\n",
        "loss_fn = nn.BCEWithLogitsLoss()\n",
        "optimizer = optim.Adam(model.parameters(), lr=LEARNING_RATE)"
      ],
      "metadata": {
        "id": "f7VIKQ82AbF7"
      },
      "execution_count": null,
      "outputs": []
    },
    {
      "cell_type": "code",
      "source": [
        "scaler = torch.cuda.amp.GradScaler()\n",
        "\n",
        "for epoch in range(NUM_EPOCHS):\n",
        "    model = train_fn(train_loader, model, optimizer, loss_fn, scaler)\n",
        "\n",
        "    check_accuracy(val_loader, model, epoch,device=DEVICE)"
      ],
      "metadata": {
        "colab": {
          "base_uri": "https://localhost:8080/"
        },
        "id": "mAto1mrQxLnW",
        "outputId": "415f2ef6-629b-4086-cfd0-cf09bb67936c"
      },
      "execution_count": null,
      "outputs": [
        {
          "output_type": "stream",
          "name": "stderr",
          "text": [
            "100%|██████████| 500/500 [1:14:46<00:00,  8.97s/it, loss=0.443]\n"
          ]
        },
        {
          "output_type": "stream",
          "name": "stdout",
          "text": [
            "Got 418993241/524288000 with acc 79.92\n",
            "Dice score: 0.665310800075531\n",
            "=> Saving checkpoint => bestmodel_epoch_0_score_79.92.pt\n"
          ]
        },
        {
          "output_type": "stream",
          "name": "stderr",
          "text": [
            "100%|██████████| 500/500 [05:44<00:00,  1.45it/s, loss=0.485]\n"
          ]
        },
        {
          "output_type": "stream",
          "name": "stdout",
          "text": [
            "Got 436678705/524288000 with acc 83.29\n",
            "Dice score: 0.7179595828056335\n",
            "=> Saving checkpoint => bestmodel_epoch_1_score_83.29.pt\n"
          ]
        },
        {
          "output_type": "stream",
          "name": "stderr",
          "text": [
            "100%|██████████| 500/500 [05:44<00:00,  1.45it/s, loss=0.412]\n"
          ]
        },
        {
          "output_type": "stream",
          "name": "stdout",
          "text": [
            "Got 442737923/524288000 with acc 84.45\n",
            "Dice score: 0.756439208984375\n",
            "=> Saving checkpoint => bestmodel_epoch_2_score_84.45.pt\n"
          ]
        },
        {
          "output_type": "stream",
          "name": "stderr",
          "text": [
            "100%|██████████| 500/500 [05:45<00:00,  1.45it/s, loss=0.344]\n"
          ]
        },
        {
          "output_type": "stream",
          "name": "stdout",
          "text": [
            "Got 446810672/524288000 with acc 85.22\n",
            "Dice score: 0.7760874032974243\n",
            "=> Saving checkpoint => bestmodel_epoch_3_score_85.22.pt\n"
          ]
        },
        {
          "output_type": "stream",
          "name": "stderr",
          "text": [
            "100%|██████████| 500/500 [05:44<00:00,  1.45it/s, loss=0.348]\n"
          ]
        },
        {
          "output_type": "stream",
          "name": "stdout",
          "text": [
            "Got 453546752/524288000 with acc 86.51\n",
            "Dice score: 0.7596524953842163\n",
            "=> Saving checkpoint => bestmodel_epoch_4_score_86.51.pt\n"
          ]
        },
        {
          "output_type": "stream",
          "name": "stderr",
          "text": [
            "100%|██████████| 500/500 [05:43<00:00,  1.45it/s, loss=0.308]\n"
          ]
        },
        {
          "output_type": "stream",
          "name": "stdout",
          "text": [
            "Got 449498041/524288000 with acc 85.73\n",
            "Dice score: 0.7925180792808533\n",
            "=> Saving checkpoint => model_epoch_5_score_85.73.pt\n"
          ]
        },
        {
          "output_type": "stream",
          "name": "stderr",
          "text": [
            "100%|██████████| 500/500 [05:44<00:00,  1.45it/s, loss=0.173]\n"
          ]
        },
        {
          "output_type": "stream",
          "name": "stdout",
          "text": [
            "Got 467635756/524288000 with acc 89.19\n",
            "Dice score: 0.8174414038658142\n",
            "=> Saving checkpoint => bestmodel_epoch_6_score_89.19.pt\n"
          ]
        },
        {
          "output_type": "stream",
          "name": "stderr",
          "text": [
            "100%|██████████| 500/500 [05:46<00:00,  1.44it/s, loss=0.181]\n"
          ]
        },
        {
          "output_type": "stream",
          "name": "stdout",
          "text": [
            "Got 470416700/524288000 with acc 89.72\n",
            "Dice score: 0.8287442326545715\n",
            "=> Saving checkpoint => bestmodel_epoch_7_score_89.72.pt\n"
          ]
        },
        {
          "output_type": "stream",
          "name": "stderr",
          "text": [
            "100%|██████████| 500/500 [05:45<00:00,  1.45it/s, loss=0.167]\n"
          ]
        },
        {
          "output_type": "stream",
          "name": "stdout",
          "text": [
            "Got 475749372/524288000 with acc 90.74\n",
            "Dice score: 0.8534322381019592\n",
            "=> Saving checkpoint => bestmodel_epoch_8_score_90.74.pt\n"
          ]
        },
        {
          "output_type": "stream",
          "name": "stderr",
          "text": [
            "100%|██████████| 500/500 [05:45<00:00,  1.45it/s, loss=0.146]\n"
          ]
        },
        {
          "output_type": "stream",
          "name": "stdout",
          "text": [
            "Got 478994887/524288000 with acc 91.36\n",
            "Dice score: 0.8579071164131165\n",
            "=> Saving checkpoint => bestmodel_epoch_9_score_91.36.pt\n"
          ]
        },
        {
          "output_type": "stream",
          "name": "stderr",
          "text": [
            "100%|██████████| 500/500 [05:46<00:00,  1.44it/s, loss=0.296]\n"
          ]
        },
        {
          "output_type": "stream",
          "name": "stdout",
          "text": [
            "Got 474830208/524288000 with acc 90.57\n",
            "Dice score: 0.853775680065155\n",
            "=> Saving checkpoint => model_epoch_10_score_90.57.pt\n"
          ]
        },
        {
          "output_type": "stream",
          "name": "stderr",
          "text": [
            "100%|██████████| 500/500 [05:46<00:00,  1.44it/s, loss=0.185]\n"
          ]
        },
        {
          "output_type": "stream",
          "name": "stdout",
          "text": [
            "Got 478549545/524288000 with acc 91.28\n",
            "Dice score: 0.8612474203109741\n",
            "=> Saving checkpoint => model_epoch_11_score_91.28.pt\n"
          ]
        },
        {
          "output_type": "stream",
          "name": "stderr",
          "text": [
            "100%|██████████| 500/500 [05:46<00:00,  1.44it/s, loss=0.367]\n"
          ]
        },
        {
          "output_type": "stream",
          "name": "stdout",
          "text": [
            "Got 475229786/524288000 with acc 90.64\n",
            "Dice score: 0.8492451906204224\n",
            "=> Saving checkpoint => model_epoch_12_score_90.64.pt\n"
          ]
        },
        {
          "output_type": "stream",
          "name": "stderr",
          "text": [
            "100%|██████████| 500/500 [05:45<00:00,  1.45it/s, loss=0.546]\n"
          ]
        },
        {
          "output_type": "stream",
          "name": "stdout",
          "text": [
            "Got 476923141/524288000 with acc 90.97\n",
            "Dice score: 0.8610224723815918\n",
            "=> Saving checkpoint => model_epoch_13_score_90.97.pt\n"
          ]
        },
        {
          "output_type": "stream",
          "name": "stderr",
          "text": [
            "100%|██████████| 500/500 [05:44<00:00,  1.45it/s, loss=0.18]\n"
          ]
        },
        {
          "output_type": "stream",
          "name": "stdout",
          "text": [
            "Got 487007756/524288000 with acc 92.89\n",
            "Dice score: 0.8860558271408081\n",
            "=> Saving checkpoint => bestmodel_epoch_14_score_92.89.pt\n"
          ]
        },
        {
          "output_type": "stream",
          "name": "stderr",
          "text": [
            "100%|██████████| 500/500 [05:44<00:00,  1.45it/s, loss=0.136]\n"
          ]
        },
        {
          "output_type": "stream",
          "name": "stdout",
          "text": [
            "Got 484490254/524288000 with acc 92.41\n",
            "Dice score: 0.8806789517402649\n",
            "=> Saving checkpoint => model_epoch_15_score_92.41.pt\n"
          ]
        },
        {
          "output_type": "stream",
          "name": "stderr",
          "text": [
            "100%|██████████| 500/500 [05:44<00:00,  1.45it/s, loss=0.084]\n"
          ]
        },
        {
          "output_type": "stream",
          "name": "stdout",
          "text": [
            "Got 486205620/524288000 with acc 92.74\n",
            "Dice score: 0.8806965947151184\n",
            "=> Saving checkpoint => model_epoch_16_score_92.74.pt\n"
          ]
        },
        {
          "output_type": "stream",
          "name": "stderr",
          "text": [
            "100%|██████████| 500/500 [05:46<00:00,  1.44it/s, loss=0.236]\n"
          ]
        },
        {
          "output_type": "stream",
          "name": "stdout",
          "text": [
            "Got 486612721/524288000 with acc 92.81\n",
            "Dice score: 0.8814024329185486\n",
            "=> Saving checkpoint => model_epoch_17_score_92.81.pt\n"
          ]
        },
        {
          "output_type": "stream",
          "name": "stderr",
          "text": [
            "100%|██████████| 500/500 [05:46<00:00,  1.44it/s, loss=0.214]\n"
          ]
        },
        {
          "output_type": "stream",
          "name": "stdout",
          "text": [
            "Got 491156649/524288000 with acc 93.68\n",
            "Dice score: 0.8968191742897034\n",
            "=> Saving checkpoint => bestmodel_epoch_18_score_93.68.pt\n"
          ]
        },
        {
          "output_type": "stream",
          "name": "stderr",
          "text": [
            "100%|██████████| 500/500 [05:45<00:00,  1.45it/s, loss=0.3]\n"
          ]
        },
        {
          "output_type": "stream",
          "name": "stdout",
          "text": [
            "Got 491918000/524288000 with acc 93.83\n",
            "Dice score: 0.9001505374908447\n",
            "=> Saving checkpoint => bestmodel_epoch_19_score_93.83.pt\n"
          ]
        },
        {
          "output_type": "stream",
          "name": "stderr",
          "text": [
            "100%|██████████| 500/500 [05:46<00:00,  1.44it/s, loss=0.237]\n"
          ]
        },
        {
          "output_type": "stream",
          "name": "stdout",
          "text": [
            "Got 490823859/524288000 with acc 93.62\n",
            "Dice score: 0.8957964777946472\n",
            "=> Saving checkpoint => model_epoch_20_score_93.62.pt\n"
          ]
        },
        {
          "output_type": "stream",
          "name": "stderr",
          "text": [
            "100%|██████████| 500/500 [05:44<00:00,  1.45it/s, loss=0.151]\n"
          ]
        },
        {
          "output_type": "stream",
          "name": "stdout",
          "text": [
            "Got 490573087/524288000 with acc 93.57\n",
            "Dice score: 0.891776442527771\n",
            "=> Saving checkpoint => model_epoch_21_score_93.57.pt\n"
          ]
        },
        {
          "output_type": "stream",
          "name": "stderr",
          "text": [
            "100%|██████████| 500/500 [05:43<00:00,  1.46it/s, loss=0.132]\n"
          ]
        },
        {
          "output_type": "stream",
          "name": "stdout",
          "text": [
            "Got 491358725/524288000 with acc 93.72\n",
            "Dice score: 0.8983933925628662\n",
            "=> Saving checkpoint => model_epoch_22_score_93.72.pt\n"
          ]
        },
        {
          "output_type": "stream",
          "name": "stderr",
          "text": [
            "100%|██████████| 500/500 [05:44<00:00,  1.45it/s, loss=0.074]\n"
          ]
        },
        {
          "output_type": "stream",
          "name": "stdout",
          "text": [
            "Got 489585281/524288000 with acc 93.38\n",
            "Dice score: 0.8902544975280762\n",
            "=> Saving checkpoint => model_epoch_23_score_93.38.pt\n"
          ]
        },
        {
          "output_type": "stream",
          "name": "stderr",
          "text": [
            "100%|██████████| 500/500 [05:46<00:00,  1.44it/s, loss=0.0746]\n"
          ]
        },
        {
          "output_type": "stream",
          "name": "stdout",
          "text": [
            "Got 480350645/524288000 with acc 91.62\n",
            "Dice score: 0.8720396757125854\n",
            "=> Saving checkpoint => model_epoch_24_score_91.62.pt\n"
          ]
        },
        {
          "output_type": "stream",
          "name": "stderr",
          "text": [
            "100%|██████████| 500/500 [05:46<00:00,  1.44it/s, loss=0.151]\n"
          ]
        },
        {
          "output_type": "stream",
          "name": "stdout",
          "text": [
            "Got 492074409/524288000 with acc 93.86\n",
            "Dice score: 0.9010517597198486\n",
            "=> Saving checkpoint => bestmodel_epoch_25_score_93.86.pt\n"
          ]
        },
        {
          "output_type": "stream",
          "name": "stderr",
          "text": [
            "100%|██████████| 500/500 [05:42<00:00,  1.46it/s, loss=0.165]\n"
          ]
        },
        {
          "output_type": "stream",
          "name": "stdout",
          "text": [
            "Got 494484708/524288000 with acc 94.32\n",
            "Dice score: 0.9072550535202026\n",
            "=> Saving checkpoint => bestmodel_epoch_26_score_94.32.pt\n"
          ]
        },
        {
          "output_type": "stream",
          "name": "stderr",
          "text": [
            "100%|██████████| 500/500 [05:40<00:00,  1.47it/s, loss=0.391]\n"
          ]
        },
        {
          "output_type": "stream",
          "name": "stdout",
          "text": [
            "Got 496891315/524288000 with acc 94.77\n",
            "Dice score: 0.9144235253334045\n",
            "=> Saving checkpoint => bestmodel_epoch_27_score_94.77.pt\n"
          ]
        },
        {
          "output_type": "stream",
          "name": "stderr",
          "text": [
            "100%|██████████| 500/500 [05:42<00:00,  1.46it/s, loss=0.0601]\n"
          ]
        },
        {
          "output_type": "stream",
          "name": "stdout",
          "text": [
            "Got 493019523/524288000 with acc 94.04\n",
            "Dice score: 0.9037988185882568\n",
            "=> Saving checkpoint => model_epoch_28_score_94.04.pt\n"
          ]
        },
        {
          "output_type": "stream",
          "name": "stderr",
          "text": [
            "100%|██████████| 500/500 [05:41<00:00,  1.46it/s, loss=0.123]\n"
          ]
        },
        {
          "output_type": "stream",
          "name": "stdout",
          "text": [
            "Got 496465198/524288000 with acc 94.69\n",
            "Dice score: 0.9146831631660461\n",
            "=> Saving checkpoint => model_epoch_29_score_94.69.pt\n"
          ]
        },
        {
          "output_type": "stream",
          "name": "stderr",
          "text": [
            " 31%|███       | 155/500 [01:45<03:13,  1.78it/s, loss=0.124]"
          ]
        }
      ]
    },
    {
      "cell_type": "code",
      "source": [],
      "metadata": {
        "id": "K4VQoTSWn33n"
      },
      "execution_count": null,
      "outputs": []
    }
  ]
}